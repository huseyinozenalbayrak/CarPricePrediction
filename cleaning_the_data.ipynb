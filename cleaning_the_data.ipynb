{
 "cells": [
  {
   "cell_type": "markdown",
   "metadata": {},
   "source": [
    "## Installing the necessary packages"
   ]
  },
  {
   "cell_type": "code",
   "execution_count": 2,
   "metadata": {},
   "outputs": [],
   "source": [
    "import numpy as np\n",
    "import pandas as pd"
   ]
  },
  {
   "cell_type": "code",
   "execution_count": 3,
   "metadata": {},
   "outputs": [],
   "source": [
    "def drop_columns(df, cols):\n",
    "    \"\"\"\n",
    "    This function gets df and cols parameters and drops the cols from the given df.\n",
    "    \n",
    "    Parameters:\n",
    "    df (pandas.DataFrame): DataFrame which columns will be deleted.\n",
    "    cols (list): A list of the column or columns to be dropped.\n",
    "    \n",
    "    Return:\n",
    "    None\n",
    "    \n",
    "    Example:\n",
    "    >>> drop_columns(df_name, list_of_columns_to_be_dropped)\n",
    "    None\n",
    "    \"\"\"\n",
    "    try:\n",
    "        for col in cols:\n",
    "            df.drop(col, axis=1, inplace=True)\n",
    "    except Exception as e:\n",
    "        print(f\"An error occured {e}\")"
   ]
  },
  {
   "cell_type": "code",
   "execution_count": 4,
   "metadata": {},
   "outputs": [],
   "source": [
    "def determine_fuel_type(model):\n",
    "    \"\"\"\n",
    "    This function gets model as parameter and determines the fuel type of the BMW 3 Seire.\n",
    "    \n",
    "    Parameters:\n",
    "    model (str): Model which fuel type will be determined.\n",
    "    \n",
    "    Return:\n",
    "    str: \"diesel\" or \"gasoline\"\n",
    "    \n",
    "    Example:\n",
    "    >>> determine_fuel_type(model_name)\n",
    "    \"gasoline\" or \"diesel\"\n",
    "    \"\"\"\n",
    "    if model.endswith('d'):\n",
    "        return 'diesel'\n",
    "    else:\n",
    "        return 'gasoline'"
   ]
  },
  {
   "cell_type": "markdown",
   "metadata": {},
   "source": [
    "## Conversion of data set to DataFrame and overview"
   ]
  },
  {
   "cell_type": "code",
   "execution_count": 3,
   "metadata": {},
   "outputs": [],
   "source": [
    "df = pd.read_csv(\"arabam_bmw3.csv\")"
   ]
  },
  {
   "cell_type": "code",
   "execution_count": 4,
   "metadata": {},
   "outputs": [
    {
     "data": {
      "text/html": [
       "<div>\n",
       "<style scoped>\n",
       "    .dataframe tbody tr th:only-of-type {\n",
       "        vertical-align: middle;\n",
       "    }\n",
       "\n",
       "    .dataframe tbody tr th {\n",
       "        vertical-align: top;\n",
       "    }\n",
       "\n",
       "    .dataframe thead th {\n",
       "        text-align: right;\n",
       "    }\n",
       "</style>\n",
       "<table border=\"1\" class=\"dataframe\">\n",
       "  <thead>\n",
       "    <tr style=\"text-align: right;\">\n",
       "      <th></th>\n",
       "      <th>smallest-text-minus href</th>\n",
       "      <th>listing-image src</th>\n",
       "      <th>listing-text-new</th>\n",
       "      <th>listing-text-new 2</th>\n",
       "      <th>fade-out-content-wrapper</th>\n",
       "      <th>fade-out-content-wrapper 2</th>\n",
       "      <th>fade-out-content-wrapper 3</th>\n",
       "      <th>fade-out-content-wrapper href 4</th>\n",
       "      <th>db</th>\n",
       "      <th>fade-out-content-wrapper 4</th>\n",
       "      <th>fade-out-content-wrapper 5</th>\n",
       "      <th>fade-out-content-wrapper 6</th>\n",
       "    </tr>\n",
       "  </thead>\n",
       "  <tbody>\n",
       "    <tr>\n",
       "      <th>0</th>\n",
       "      <td>https://www.arabam.com/ilan/galeriden-satilik-...</td>\n",
       "      <td>https://arbstorage.mncdn.com/ilanfotograflari/...</td>\n",
       "      <td>BMW 3 Serisi 330d Standart</td>\n",
       "      <td>Galeriden BMW 3 Serisi 320 d ışık paket 2007 M...</td>\n",
       "      <td>2007</td>\n",
       "      <td>349.0</td>\n",
       "      <td>Siyah</td>\n",
       "      <td>https://www.arabam.com/ilan/galeriden-satilik-...</td>\n",
       "      <td>750.000 TL</td>\n",
       "      <td>27 Temmuz 2024</td>\n",
       "      <td>Adana</td>\n",
       "      <td>Sarıçam</td>\n",
       "    </tr>\n",
       "    <tr>\n",
       "      <th>1</th>\n",
       "      <td>https://www.arabam.com/ilan/galeriden-satilik-...</td>\n",
       "      <td>https://arbstorage.mncdn.com/ilanfotograflari/...</td>\n",
       "      <td>BMW 3 Serisi 316i Modern Line</td>\n",
       "      <td>Galeriden BMW 3 Serisi 316i Modern Line 2012 M...</td>\n",
       "      <td>2012</td>\n",
       "      <td>83.5</td>\n",
       "      <td>Beyaz</td>\n",
       "      <td>https://www.arabam.com/ilan/galeriden-satilik-...</td>\n",
       "      <td>1.120.000 TL</td>\n",
       "      <td>26 Temmuz 2024</td>\n",
       "      <td>Nevşehir</td>\n",
       "      <td>Gülşehir</td>\n",
       "    </tr>\n",
       "    <tr>\n",
       "      <th>2</th>\n",
       "      <td>https://www.arabam.com/ilan/galeriden-satilik-...</td>\n",
       "      <td>https://arbstorage.mncdn.com/ilanfotograflari/...</td>\n",
       "      <td>BMW 3 Serisi 316i Advantage</td>\n",
       "      <td>Galeriden BMW 3 Serisi 316i Advantage 2011 Mod...</td>\n",
       "      <td>2011</td>\n",
       "      <td>146.0</td>\n",
       "      <td>Beyaz</td>\n",
       "      <td>https://www.arabam.com/ilan/galeriden-satilik-...</td>\n",
       "      <td>812.000 TL</td>\n",
       "      <td>24 Temmuz 2024</td>\n",
       "      <td>Isparta</td>\n",
       "      <td>Merkez</td>\n",
       "    </tr>\n",
       "    <tr>\n",
       "      <th>3</th>\n",
       "      <td>https://www.arabam.com/ilan/galeriden-satilik-...</td>\n",
       "      <td>https://arbstorage.mncdn.com/ilanfotograflari/...</td>\n",
       "      <td>BMW 3 Serisi 320i Coupe</td>\n",
       "      <td>Galeriden BMW 3 Serisi 320i Coupe 2010 Model K...</td>\n",
       "      <td>2010</td>\n",
       "      <td>153.0</td>\n",
       "      <td>Beyaz</td>\n",
       "      <td>https://www.arabam.com/ilan/galeriden-satilik-...</td>\n",
       "      <td>1.185.000 TL</td>\n",
       "      <td>24 Temmuz 2024</td>\n",
       "      <td>Konya</td>\n",
       "      <td>Akşehir</td>\n",
       "    </tr>\n",
       "    <tr>\n",
       "      <th>4</th>\n",
       "      <td>https://www.arabam.com/ilan/galeriden-satilik-...</td>\n",
       "      <td>https://arbstorage.mncdn.com/ilanfotograflari/...</td>\n",
       "      <td>BMW 3 Serisi 320i ED Luxury Line Plus</td>\n",
       "      <td>2014 MODEL 320İED LUXURY LINE PLUS 170 HP 130....</td>\n",
       "      <td>2014</td>\n",
       "      <td>130.0</td>\n",
       "      <td>Füme</td>\n",
       "      <td>https://www.arabam.com/ilan/galeriden-satilik-...</td>\n",
       "      <td>1.195.000 TL</td>\n",
       "      <td>23 Temmuz 2024</td>\n",
       "      <td>Hatay</td>\n",
       "      <td>İskenderun</td>\n",
       "    </tr>\n",
       "    <tr>\n",
       "      <th>...</th>\n",
       "      <td>...</td>\n",
       "      <td>...</td>\n",
       "      <td>...</td>\n",
       "      <td>...</td>\n",
       "      <td>...</td>\n",
       "      <td>...</td>\n",
       "      <td>...</td>\n",
       "      <td>...</td>\n",
       "      <td>...</td>\n",
       "      <td>...</td>\n",
       "      <td>...</td>\n",
       "      <td>...</td>\n",
       "    </tr>\n",
       "    <tr>\n",
       "      <th>994</th>\n",
       "      <td>https://www.arabam.com/ilan/sahibinden-satilik...</td>\n",
       "      <td>https://arbimg1.mncdn.com/ilanfotograflari/noI...</td>\n",
       "      <td>BMW 3 Serisi 318i Standart</td>\n",
       "      <td>Sahibinden BMW 3 Serisi 318i Standart 1993 Model</td>\n",
       "      <td>1993</td>\n",
       "      <td>372.0</td>\n",
       "      <td>Lacivert</td>\n",
       "      <td>https://www.arabam.com/ilan/sahibinden-satilik...</td>\n",
       "      <td>200.000 TL</td>\n",
       "      <td>28 Haziran 2024</td>\n",
       "      <td>Ankara</td>\n",
       "      <td>Etimesgut</td>\n",
       "    </tr>\n",
       "    <tr>\n",
       "      <th>995</th>\n",
       "      <td>https://www.arabam.com/ilan/galeriden-satilik-...</td>\n",
       "      <td>https://arbimg1.mncdn.com/ilanfotograflari/noI...</td>\n",
       "      <td>BMW 3 Serisi 316i M Sport</td>\n",
       "      <td>Hatasız boyasız tramersiz</td>\n",
       "      <td>2015</td>\n",
       "      <td>196.0</td>\n",
       "      <td>Mavi</td>\n",
       "      <td>https://www.arabam.com/ilan/galeriden-satilik-...</td>\n",
       "      <td>1.275.000 TL</td>\n",
       "      <td>28 Haziran 2024</td>\n",
       "      <td>Muğla</td>\n",
       "      <td>Fethiye</td>\n",
       "    </tr>\n",
       "    <tr>\n",
       "      <th>996</th>\n",
       "      <td>https://www.arabam.com/ilan/galeriden-satilik-...</td>\n",
       "      <td>https://arbimg1.mncdn.com/ilanfotograflari/noI...</td>\n",
       "      <td>BMW 3 Serisi 318i Prestige</td>\n",
       "      <td>\"Mec Motors\" 130.000km Hatasız-Boyasız Isıtma-...</td>\n",
       "      <td>2017</td>\n",
       "      <td>130.0</td>\n",
       "      <td>Siyah</td>\n",
       "      <td>https://www.arabam.com/ilan/galeriden-satilik-...</td>\n",
       "      <td>1.245.000 TL</td>\n",
       "      <td>28 Haziran 2024</td>\n",
       "      <td>Balıkesir</td>\n",
       "      <td>Gönen</td>\n",
       "    </tr>\n",
       "    <tr>\n",
       "      <th>997</th>\n",
       "      <td>https://www.arabam.com/ilan/galeriden-satilik-...</td>\n",
       "      <td>https://arbimg1.mncdn.com/ilanfotograflari/noI...</td>\n",
       "      <td>BMW 3 Serisi 320d M Sport</td>\n",
       "      <td>AES AUTO'DAN 2012 BMW 320 D DIŞ M SPORT</td>\n",
       "      <td>2012</td>\n",
       "      <td>286.0</td>\n",
       "      <td>Siyah</td>\n",
       "      <td>https://www.arabam.com/ilan/galeriden-satilik-...</td>\n",
       "      <td>1.050.750 TL</td>\n",
       "      <td>28 Haziran 2024</td>\n",
       "      <td>Denizli</td>\n",
       "      <td>Merkezefendi</td>\n",
       "    </tr>\n",
       "    <tr>\n",
       "      <th>998</th>\n",
       "      <td>https://www.arabam.com/ilan/galeriden-satilik-...</td>\n",
       "      <td>https://arbimg1.mncdn.com/ilanfotograflari/noI...</td>\n",
       "      <td>BMW 3 Serisi 320i</td>\n",
       "      <td>ATASOY 2009 BMW 320İ COUPE SUNROOF / RECARO / ...</td>\n",
       "      <td>2009</td>\n",
       "      <td>203.0</td>\n",
       "      <td>Siyah</td>\n",
       "      <td>https://www.arabam.com/ilan/galeriden-satilik-...</td>\n",
       "      <td>975.000 TL</td>\n",
       "      <td>28 Haziran 2024</td>\n",
       "      <td>Ankara</td>\n",
       "      <td>Etimesgut</td>\n",
       "    </tr>\n",
       "  </tbody>\n",
       "</table>\n",
       "<p>999 rows × 12 columns</p>\n",
       "</div>"
      ],
      "text/plain": [
       "                              smallest-text-minus href  \\\n",
       "0    https://www.arabam.com/ilan/galeriden-satilik-...   \n",
       "1    https://www.arabam.com/ilan/galeriden-satilik-...   \n",
       "2    https://www.arabam.com/ilan/galeriden-satilik-...   \n",
       "3    https://www.arabam.com/ilan/galeriden-satilik-...   \n",
       "4    https://www.arabam.com/ilan/galeriden-satilik-...   \n",
       "..                                                 ...   \n",
       "994  https://www.arabam.com/ilan/sahibinden-satilik...   \n",
       "995  https://www.arabam.com/ilan/galeriden-satilik-...   \n",
       "996  https://www.arabam.com/ilan/galeriden-satilik-...   \n",
       "997  https://www.arabam.com/ilan/galeriden-satilik-...   \n",
       "998  https://www.arabam.com/ilan/galeriden-satilik-...   \n",
       "\n",
       "                                     listing-image src  \\\n",
       "0    https://arbstorage.mncdn.com/ilanfotograflari/...   \n",
       "1    https://arbstorage.mncdn.com/ilanfotograflari/...   \n",
       "2    https://arbstorage.mncdn.com/ilanfotograflari/...   \n",
       "3    https://arbstorage.mncdn.com/ilanfotograflari/...   \n",
       "4    https://arbstorage.mncdn.com/ilanfotograflari/...   \n",
       "..                                                 ...   \n",
       "994  https://arbimg1.mncdn.com/ilanfotograflari/noI...   \n",
       "995  https://arbimg1.mncdn.com/ilanfotograflari/noI...   \n",
       "996  https://arbimg1.mncdn.com/ilanfotograflari/noI...   \n",
       "997  https://arbimg1.mncdn.com/ilanfotograflari/noI...   \n",
       "998  https://arbimg1.mncdn.com/ilanfotograflari/noI...   \n",
       "\n",
       "                          listing-text-new  \\\n",
       "0               BMW 3 Serisi 330d Standart   \n",
       "1            BMW 3 Serisi 316i Modern Line   \n",
       "2              BMW 3 Serisi 316i Advantage   \n",
       "3                  BMW 3 Serisi 320i Coupe   \n",
       "4    BMW 3 Serisi 320i ED Luxury Line Plus   \n",
       "..                                     ...   \n",
       "994             BMW 3 Serisi 318i Standart   \n",
       "995              BMW 3 Serisi 316i M Sport   \n",
       "996             BMW 3 Serisi 318i Prestige   \n",
       "997              BMW 3 Serisi 320d M Sport   \n",
       "998                      BMW 3 Serisi 320i   \n",
       "\n",
       "                                    listing-text-new 2  \\\n",
       "0    Galeriden BMW 3 Serisi 320 d ışık paket 2007 M...   \n",
       "1    Galeriden BMW 3 Serisi 316i Modern Line 2012 M...   \n",
       "2    Galeriden BMW 3 Serisi 316i Advantage 2011 Mod...   \n",
       "3    Galeriden BMW 3 Serisi 320i Coupe 2010 Model K...   \n",
       "4    2014 MODEL 320İED LUXURY LINE PLUS 170 HP 130....   \n",
       "..                                                 ...   \n",
       "994   Sahibinden BMW 3 Serisi 318i Standart 1993 Model   \n",
       "995                          Hatasız boyasız tramersiz   \n",
       "996  \"Mec Motors\" 130.000km Hatasız-Boyasız Isıtma-...   \n",
       "997            AES AUTO'DAN 2012 BMW 320 D DIŞ M SPORT   \n",
       "998  ATASOY 2009 BMW 320İ COUPE SUNROOF / RECARO / ...   \n",
       "\n",
       "     fade-out-content-wrapper  fade-out-content-wrapper 2  \\\n",
       "0                        2007                       349.0   \n",
       "1                        2012                        83.5   \n",
       "2                        2011                       146.0   \n",
       "3                        2010                       153.0   \n",
       "4                        2014                       130.0   \n",
       "..                        ...                         ...   \n",
       "994                      1993                       372.0   \n",
       "995                      2015                       196.0   \n",
       "996                      2017                       130.0   \n",
       "997                      2012                       286.0   \n",
       "998                      2009                       203.0   \n",
       "\n",
       "    fade-out-content-wrapper 3  \\\n",
       "0                        Siyah   \n",
       "1                        Beyaz   \n",
       "2                        Beyaz   \n",
       "3                        Beyaz   \n",
       "4                         Füme   \n",
       "..                         ...   \n",
       "994                   Lacivert   \n",
       "995                       Mavi   \n",
       "996                      Siyah   \n",
       "997                      Siyah   \n",
       "998                      Siyah   \n",
       "\n",
       "                       fade-out-content-wrapper href 4            db  \\\n",
       "0    https://www.arabam.com/ilan/galeriden-satilik-...    750.000 TL   \n",
       "1    https://www.arabam.com/ilan/galeriden-satilik-...  1.120.000 TL   \n",
       "2    https://www.arabam.com/ilan/galeriden-satilik-...    812.000 TL   \n",
       "3    https://www.arabam.com/ilan/galeriden-satilik-...  1.185.000 TL   \n",
       "4    https://www.arabam.com/ilan/galeriden-satilik-...  1.195.000 TL   \n",
       "..                                                 ...           ...   \n",
       "994  https://www.arabam.com/ilan/sahibinden-satilik...    200.000 TL   \n",
       "995  https://www.arabam.com/ilan/galeriden-satilik-...  1.275.000 TL   \n",
       "996  https://www.arabam.com/ilan/galeriden-satilik-...  1.245.000 TL   \n",
       "997  https://www.arabam.com/ilan/galeriden-satilik-...  1.050.750 TL   \n",
       "998  https://www.arabam.com/ilan/galeriden-satilik-...    975.000 TL   \n",
       "\n",
       "    fade-out-content-wrapper 4 fade-out-content-wrapper 5  \\\n",
       "0               27 Temmuz 2024                      Adana   \n",
       "1               26 Temmuz 2024                   Nevşehir   \n",
       "2               24 Temmuz 2024                    Isparta   \n",
       "3               24 Temmuz 2024                      Konya   \n",
       "4               23 Temmuz 2024                      Hatay   \n",
       "..                         ...                        ...   \n",
       "994            28 Haziran 2024                     Ankara   \n",
       "995            28 Haziran 2024                      Muğla   \n",
       "996            28 Haziran 2024                  Balıkesir   \n",
       "997            28 Haziran 2024                    Denizli   \n",
       "998            28 Haziran 2024                     Ankara   \n",
       "\n",
       "    fade-out-content-wrapper 6  \n",
       "0                      Sarıçam  \n",
       "1                     Gülşehir  \n",
       "2                       Merkez  \n",
       "3                      Akşehir  \n",
       "4                   İskenderun  \n",
       "..                         ...  \n",
       "994                  Etimesgut  \n",
       "995                    Fethiye  \n",
       "996                      Gönen  \n",
       "997               Merkezefendi  \n",
       "998                  Etimesgut  \n",
       "\n",
       "[999 rows x 12 columns]"
      ]
     },
     "execution_count": 4,
     "metadata": {},
     "output_type": "execute_result"
    }
   ],
   "source": [
    "df"
   ]
  },
  {
   "cell_type": "markdown",
   "metadata": {},
   "source": [
    "## Removing unnecessary columns from the DataFrame"
   ]
  },
  {
   "cell_type": "code",
   "execution_count": 5,
   "metadata": {},
   "outputs": [],
   "source": [
    "columns_to_be_dropped = [\n",
    "    \"listing-text-new 2\",\n",
    "    \"listing-image src\", \n",
    "    \"fade-out-content-wrapper href 4\", \n",
    "    \"fade-out-content-wrapper 4\", \n",
    "    \"smallest-text-minus href\"\n",
    "]"
   ]
  },
  {
   "cell_type": "code",
   "execution_count": 6,
   "metadata": {},
   "outputs": [],
   "source": [
    "drop_columns(df, columns_to_be_dropped)"
   ]
  },
  {
   "cell_type": "markdown",
   "metadata": {},
   "source": [
    "## Converting column names to a more understandable name"
   ]
  },
  {
   "cell_type": "code",
   "execution_count": 7,
   "metadata": {},
   "outputs": [],
   "source": [
    "df[\"district\"] = df[\"fade-out-content-wrapper 6\"].astype(str)\n",
    "drop_columns(df, [\"fade-out-content-wrapper 6\"])"
   ]
  },
  {
   "cell_type": "code",
   "execution_count": 8,
   "metadata": {},
   "outputs": [],
   "source": [
    "df[\"city\"] = df[\"fade-out-content-wrapper 5\"].astype(str)\n",
    "drop_columns(df, [\"fade-out-content-wrapper 5\"])"
   ]
  },
  {
   "cell_type": "markdown",
   "metadata": {},
   "source": [
    "## Making necessary corrections and cleaning"
   ]
  },
  {
   "cell_type": "code",
   "execution_count": 9,
   "metadata": {},
   "outputs": [],
   "source": [
    "df[\"db\"] = df[\"db\"].astype(str).apply(lambda x: x.replace(\".\", \"\"))\n",
    "df[\"price\"] = df[\"db\"].astype(str).apply(lambda x: x.split(\" \")[0]).astype(int)"
   ]
  },
  {
   "cell_type": "code",
   "execution_count": 10,
   "metadata": {},
   "outputs": [],
   "source": [
    "drop_columns(df, [\"db\"])"
   ]
  },
  {
   "cell_type": "code",
   "execution_count": 12,
   "metadata": {},
   "outputs": [
    {
     "data": {
      "text/plain": [
       "array(['Siyah', 'Beyaz', 'Füme', 'Gri (titanyum)', 'Kırmızı',\n",
       "       'Kahverengi', 'Gri (Gümüş)', 'Mavi (metalik)', 'Gri (metalik)',\n",
       "       'Gri', 'Lacivert', 'Bordo', 'Yeşil', 'Mavi', 'Diğer', 'Turuncu',\n",
       "       'Yeşil (metalik)', 'Mor', 'Sarı', 'Şampanya'], dtype=object)"
      ]
     },
     "execution_count": 12,
     "metadata": {},
     "output_type": "execute_result"
    }
   ],
   "source": [
    "df[\"fade-out-content-wrapper 3\"].unique()"
   ]
  },
  {
   "cell_type": "code",
   "execution_count": 13,
   "metadata": {},
   "outputs": [],
   "source": [
    "replace_dict = {\n",
    "    \"Gri (titanyum)\": \"Gri\",\n",
    "    \"Gri (Gümüş)\": \"Gri\",\n",
    "    \"Gri (metalik)\": \"Gri\",\n",
    "    \"Mavi (metalik)\": \"Mavi\",\n",
    "    \"Diğer\": \"Beyaz\",\n",
    "    \"Yeşil (metalik)\": \"Yeşil\"\n",
    "}"
   ]
  },
  {
   "cell_type": "code",
   "execution_count": 14,
   "metadata": {},
   "outputs": [],
   "source": [
    "df[\"fade-out-content-wrapper 3\"] = df[\"fade-out-content-wrapper 3\"].replace(replace_dict.keys(), replace_dict.values()) # type: ignore\n",
    "df[\"color\"] = df[\"fade-out-content-wrapper 3\"]\n",
    "drop_columns(df, [\"fade-out-content-wrapper 3\"])"
   ]
  },
  {
   "cell_type": "code",
   "execution_count": 15,
   "metadata": {},
   "outputs": [
    {
     "data": {
      "text/plain": [
       "array(['Siyah', 'Beyaz', 'Füme', 'Gri', 'Kırmızı', 'Kahverengi', 'Mavi',\n",
       "       'Lacivert', 'Bordo', 'Yeşil', 'Turuncu', 'Mor', 'Sarı', 'Şampanya'],\n",
       "      dtype=object)"
      ]
     },
     "execution_count": 15,
     "metadata": {},
     "output_type": "execute_result"
    }
   ],
   "source": [
    "df[\"color\"].unique()"
   ]
  },
  {
   "cell_type": "code",
   "execution_count": 18,
   "metadata": {},
   "outputs": [],
   "source": [
    "df[\"km\"] = df[\"fade-out-content-wrapper 2\"].apply(lambda x: f\"{x:.3f}\").apply(lambda x: x.replace(\".\", \"\")).astype(int)\n",
    "drop_columns(df, [\"fade-out-content-wrapper 2\"])"
   ]
  },
  {
   "cell_type": "code",
   "execution_count": 21,
   "metadata": {},
   "outputs": [],
   "source": [
    "df[\"year\"] =df[\"fade-out-content-wrapper\"]\n",
    "drop_columns(df, [\"fade-out-content-wrapper\"])"
   ]
  },
  {
   "cell_type": "code",
   "execution_count": 24,
   "metadata": {},
   "outputs": [],
   "source": [
    "df[\"model\"] = df[\"listing-text-new\"].apply(lambda x: x.split(\" \")[3])"
   ]
  },
  {
   "cell_type": "code",
   "execution_count": 27,
   "metadata": {},
   "outputs": [],
   "source": [
    "df['fuel_type'] = df['model'].apply(determine_fuel_type) # type: ignore"
   ]
  },
  {
   "cell_type": "code",
   "execution_count": 28,
   "metadata": {},
   "outputs": [],
   "source": [
    "drop_columns(df, [\"listing-text-new\"])"
   ]
  },
  {
   "cell_type": "code",
   "execution_count": 29,
   "metadata": {},
   "outputs": [
    {
     "data": {
      "text/plain": [
       "array(['diesel', 'gasoline'], dtype=object)"
      ]
     },
     "execution_count": 29,
     "metadata": {},
     "output_type": "execute_result"
    }
   ],
   "source": [
    "df[\"fuel_type\"].unique()"
   ]
  },
  {
   "cell_type": "markdown",
   "metadata": {},
   "source": [
    "## Cleaned version of the data set"
   ]
  },
  {
   "cell_type": "code",
   "execution_count": 30,
   "metadata": {},
   "outputs": [
    {
     "name": "stdout",
     "output_type": "stream",
     "text": [
      "<class 'pandas.core.frame.DataFrame'>\n",
      "RangeIndex: 999 entries, 0 to 998\n",
      "Data columns (total 8 columns):\n",
      " #   Column     Non-Null Count  Dtype \n",
      "---  ------     --------------  ----- \n",
      " 0   district   999 non-null    object\n",
      " 1   city       999 non-null    object\n",
      " 2   price      999 non-null    int64 \n",
      " 3   color      999 non-null    object\n",
      " 4   km         999 non-null    int64 \n",
      " 5   year       999 non-null    int64 \n",
      " 6   model      999 non-null    object\n",
      " 7   fuel_type  999 non-null    object\n",
      "dtypes: int64(3), object(5)\n",
      "memory usage: 62.6+ KB\n"
     ]
    }
   ],
   "source": [
    "df.info()"
   ]
  },
  {
   "cell_type": "code",
   "execution_count": 31,
   "metadata": {},
   "outputs": [
    {
     "name": "stdout",
     "output_type": "stream",
     "text": [
      "         district       city    price     color      km  year model fuel_type\n",
      "0         Sarıçam      Adana   750000     Siyah  349000  2007  330d    diesel\n",
      "1        Gülşehir   Nevşehir  1120000     Beyaz   83500  2012  316i  gasoline\n",
      "2          Merkez    Isparta   812000     Beyaz  146000  2011  316i  gasoline\n",
      "3         Akşehir      Konya  1185000     Beyaz  153000  2010  320i  gasoline\n",
      "4      İskenderun      Hatay  1195000      Füme  130000  2014  320i  gasoline\n",
      "..            ...        ...      ...       ...     ...   ...   ...       ...\n",
      "994     Etimesgut     Ankara   200000  Lacivert  372000  1993  318i  gasoline\n",
      "995       Fethiye      Muğla  1275000      Mavi  196000  2015  316i  gasoline\n",
      "996         Gönen  Balıkesir  1245000     Siyah  130000  2017  318i  gasoline\n",
      "997  Merkezefendi    Denizli  1050750     Siyah  286000  2012  320d    diesel\n",
      "998     Etimesgut     Ankara   975000     Siyah  203000  2009  320i  gasoline\n",
      "\n",
      "[999 rows x 8 columns]\n"
     ]
    }
   ],
   "source": [
    "print(df)"
   ]
  },
  {
   "cell_type": "markdown",
   "metadata": {},
   "source": [
    "## Saving cleaned data"
   ]
  },
  {
   "cell_type": "code",
   "execution_count": 237,
   "metadata": {},
   "outputs": [],
   "source": [
    "df.to_csv(\"data.csv\", index=False)"
   ]
  }
 ],
 "metadata": {
  "kernelspec": {
   "display_name": "base",
   "language": "python",
   "name": "python3"
  },
  "language_info": {
   "codemirror_mode": {
    "name": "ipython",
    "version": 3
   },
   "file_extension": ".py",
   "mimetype": "text/x-python",
   "name": "python",
   "nbconvert_exporter": "python",
   "pygments_lexer": "ipython3",
   "version": "3.12.4"
  }
 },
 "nbformat": 4,
 "nbformat_minor": 2
}
